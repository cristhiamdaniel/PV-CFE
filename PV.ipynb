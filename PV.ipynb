{
 "cells": [
  {
   "cell_type": "markdown",
   "id": "1a191afc-a022-41d1-a832-648786acae47",
   "metadata": {},
   "source": [
    "# Modelado Matematico Panel Fotovoltaico"
   ]
  },
  {
   "cell_type": "markdown",
   "id": "755143c4-6f2a-463b-9daf-741db2b12c7f",
   "metadata": {},
   "source": [
    "* Fotocorriente\n",
    "\n",
    "\\begin{equation}\n",
    "I_{Ph} = \\left [ I_{sc} + k_i \\left ( T - 298 \\right ) \\right ] \\frac{G}{1000}\n",
    "\\end{equation}"
   ]
  },
  {
   "cell_type": "markdown",
   "id": "eaf4c4ed-8a0c-4952-b9fc-e955c9da7936",
   "metadata": {},
   "source": [
    "* Corriente de saturacion\n",
    "\n",
    "\\begin{equation}\n",
    "I_0 = I_{rs} \\left ( \\frac{T}{T_n} \\right )^{3} \\exp{\\left [ \\frac{qE_{g0}\\left ( \\frac{1}{T_n} -\\frac{1}{T} \\right )}{nK} \\right ]}\n",
    "\\end{equation}"
   ]
  },
  {
   "cell_type": "markdown",
   "id": "5ae58dbc-c4cd-4c5b-97de-982b8ef05e48",
   "metadata": {},
   "source": [
    "* Corriente de saturacion reversa\n",
    "\n"
   ]
  },
  {
   "cell_type": "markdown",
   "id": "12ca3d5f-2313-4f06-a581-342ce71237e5",
   "metadata": {},
   "source": [
    "\\begin{equation}\n",
    "I_{rs} = \\frac{I_{sc}}{\\exp\\left ( \\frac{qV_{oc}}{nN_sRT} \\right ) - 1}\n",
    "\\end{equation}"
   ]
  },
  {
   "cell_type": "markdown",
   "id": "f5896f74-2f95-4af2-b193-86e34c5b52a4",
   "metadata": {},
   "source": [
    "* Corriente shunt\n",
    "\n",
    "\\begin{equation}\n",
    "I_{sh} = \\left ( \\frac{V + IR_s}{R_{sh}} \\right )\n",
    "\\end{equation}"
   ]
  },
  {
   "cell_type": "markdown",
   "id": "0a36e5e3-5818-4d3f-8c93-3a9b45e4a442",
   "metadata": {},
   "source": [
    "* Corriente fotovoltaica\n",
    "\n",
    "\\begin{equation}\n",
    "I = I_{ph} - I_0\\left [ \\exp\\left ( \\frac{q\\left ( V + IR_s \\right )}{nKN_sT} \\right ) -1  \\right ] - I_{sh}\n",
    "\\end{equation}"
   ]
  }
 ],
 "metadata": {
  "kernelspec": {
   "display_name": "Python 3 (ipykernel)",
   "language": "python",
   "name": "python3"
  },
  "language_info": {
   "codemirror_mode": {
    "name": "ipython",
    "version": 3
   },
   "file_extension": ".py",
   "mimetype": "text/x-python",
   "name": "python",
   "nbconvert_exporter": "python",
   "pygments_lexer": "ipython3",
   "version": "3.8.12"
  }
 },
 "nbformat": 4,
 "nbformat_minor": 5
}
